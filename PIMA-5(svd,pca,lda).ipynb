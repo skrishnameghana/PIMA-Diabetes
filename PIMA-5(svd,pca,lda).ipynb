{
 "cells": [
  {
   "cell_type": "code",
   "execution_count": 1,
   "id": "29714333",
   "metadata": {},
   "outputs": [],
   "source": [
    "import pandas as pd\n",
    "import numpy as np\n",
    "import missingno as mno\n",
    "import seaborn as sns\n",
    "import matplotlib.pyplot as plt\n",
    "%matplotlib inline\n",
    "\n",
    "#ignore warning messages \n",
    "import warnings\n",
    "warnings.filterwarnings('ignore')"
   ]
  },
  {
   "cell_type": "code",
   "execution_count": 2,
   "id": "e1bd72af",
   "metadata": {},
   "outputs": [],
   "source": [
    "location=(\"C:\\\\Users\\\\krishna meghana\\\\Downloads\\\\diabetes.csv\")\n",
    "data = pd.read_csv(location)"
   ]
  },
  {
   "cell_type": "code",
   "execution_count": 3,
   "id": "972b8e07",
   "metadata": {},
   "outputs": [
    {
     "data": {
      "text/html": [
       "<div>\n",
       "<style scoped>\n",
       "    .dataframe tbody tr th:only-of-type {\n",
       "        vertical-align: middle;\n",
       "    }\n",
       "\n",
       "    .dataframe tbody tr th {\n",
       "        vertical-align: top;\n",
       "    }\n",
       "\n",
       "    .dataframe thead th {\n",
       "        text-align: right;\n",
       "    }\n",
       "</style>\n",
       "<table border=\"1\" class=\"dataframe\">\n",
       "  <thead>\n",
       "    <tr style=\"text-align: right;\">\n",
       "      <th></th>\n",
       "      <th>Pregnancies</th>\n",
       "      <th>Glucose</th>\n",
       "      <th>BloodPressure</th>\n",
       "      <th>SkinThickness</th>\n",
       "      <th>Insulin</th>\n",
       "      <th>BMI</th>\n",
       "      <th>DiabetesPedigreeFunction</th>\n",
       "      <th>Age</th>\n",
       "      <th>Outcome</th>\n",
       "    </tr>\n",
       "  </thead>\n",
       "  <tbody>\n",
       "    <tr>\n",
       "      <th>0</th>\n",
       "      <td>6</td>\n",
       "      <td>148</td>\n",
       "      <td>72</td>\n",
       "      <td>35</td>\n",
       "      <td>0</td>\n",
       "      <td>33.6</td>\n",
       "      <td>0.627</td>\n",
       "      <td>50</td>\n",
       "      <td>1</td>\n",
       "    </tr>\n",
       "    <tr>\n",
       "      <th>1</th>\n",
       "      <td>1</td>\n",
       "      <td>85</td>\n",
       "      <td>66</td>\n",
       "      <td>29</td>\n",
       "      <td>0</td>\n",
       "      <td>26.6</td>\n",
       "      <td>0.351</td>\n",
       "      <td>31</td>\n",
       "      <td>0</td>\n",
       "    </tr>\n",
       "    <tr>\n",
       "      <th>2</th>\n",
       "      <td>8</td>\n",
       "      <td>183</td>\n",
       "      <td>64</td>\n",
       "      <td>0</td>\n",
       "      <td>0</td>\n",
       "      <td>23.3</td>\n",
       "      <td>0.672</td>\n",
       "      <td>32</td>\n",
       "      <td>1</td>\n",
       "    </tr>\n",
       "    <tr>\n",
       "      <th>3</th>\n",
       "      <td>1</td>\n",
       "      <td>89</td>\n",
       "      <td>66</td>\n",
       "      <td>23</td>\n",
       "      <td>94</td>\n",
       "      <td>28.1</td>\n",
       "      <td>0.167</td>\n",
       "      <td>21</td>\n",
       "      <td>0</td>\n",
       "    </tr>\n",
       "    <tr>\n",
       "      <th>4</th>\n",
       "      <td>0</td>\n",
       "      <td>137</td>\n",
       "      <td>40</td>\n",
       "      <td>35</td>\n",
       "      <td>168</td>\n",
       "      <td>43.1</td>\n",
       "      <td>2.288</td>\n",
       "      <td>33</td>\n",
       "      <td>1</td>\n",
       "    </tr>\n",
       "  </tbody>\n",
       "</table>\n",
       "</div>"
      ],
      "text/plain": [
       "   Pregnancies  Glucose  BloodPressure  SkinThickness  Insulin   BMI  \\\n",
       "0            6      148             72             35        0  33.6   \n",
       "1            1       85             66             29        0  26.6   \n",
       "2            8      183             64              0        0  23.3   \n",
       "3            1       89             66             23       94  28.1   \n",
       "4            0      137             40             35      168  43.1   \n",
       "\n",
       "   DiabetesPedigreeFunction  Age  Outcome  \n",
       "0                     0.627   50        1  \n",
       "1                     0.351   31        0  \n",
       "2                     0.672   32        1  \n",
       "3                     0.167   21        0  \n",
       "4                     2.288   33        1  "
      ]
     },
     "execution_count": 3,
     "metadata": {},
     "output_type": "execute_result"
    }
   ],
   "source": [
    "data.head()"
   ]
  },
  {
   "cell_type": "code",
   "execution_count": 4,
   "id": "7c7e9b8f",
   "metadata": {},
   "outputs": [
    {
     "name": "stdout",
     "output_type": "stream",
     "text": [
      "The shape of the data is  (768, 9)\n"
     ]
    }
   ],
   "source": [
    "print(\"The shape of the data is \",data.shape)"
   ]
  },
  {
   "cell_type": "code",
   "execution_count": 5,
   "id": "1faa52f7",
   "metadata": {},
   "outputs": [
    {
     "name": "stdout",
     "output_type": "stream",
     "text": [
      "Pregnancies                   0\n",
      "Glucose                       5\n",
      "BloodPressure                35\n",
      "SkinThickness               227\n",
      "Insulin                     374\n",
      "BMI                          11\n",
      "DiabetesPedigreeFunction      0\n",
      "Age                           0\n",
      "Outcome                       0\n",
      "dtype: int64\n"
     ]
    }
   ],
   "source": [
    "#Replacing zeroes with Nan value\n",
    "\n",
    "data_copy = data.copy(deep = True)\n",
    "data_copy[['Glucose','BloodPressure','SkinThickness','Insulin','BMI']] = data_copy[['Glucose','BloodPressure','SkinThickness','Insulin','BMI']].replace(0,np.NaN)\n",
    "\n",
    "## showing the count of Nans\n",
    "\n",
    "print(data_copy.isnull().sum())"
   ]
  },
  {
   "cell_type": "code",
   "execution_count": 6,
   "id": "02ad2561",
   "metadata": {},
   "outputs": [],
   "source": [
    "#For easy access, renaming data_copy as df\n",
    "df=data_copy\n",
    "\n",
    "# Highly skewed\n",
    "df['BMI'].fillna(df['BMI'].median(), inplace = True)\n",
    "df['SkinThickness'].fillna(df['SkinThickness'].median(), inplace = True)\n",
    "df['Insulin'].fillna(df['Insulin'].median(), inplace = True)\n",
    "\n",
    "#Normal\n",
    "df['Glucose'].fillna(df['Glucose'].mean(), inplace = True)\n",
    "df['BloodPressure'].fillna(df['BloodPressure'].mean(), inplace = True)"
   ]
  },
  {
   "cell_type": "code",
   "execution_count": 45,
   "id": "1a45bd66",
   "metadata": {},
   "outputs": [
    {
     "name": "stdout",
     "output_type": "stream",
     "text": [
      "Pregnancies                 0\n",
      "Glucose                     0\n",
      "BloodPressure               0\n",
      "SkinThickness               0\n",
      "Insulin                     0\n",
      "BMI                         0\n",
      "DiabetesPedigreeFunction    0\n",
      "Age                         0\n",
      "Outcome                     0\n",
      "dtype: int64\n"
     ]
    }
   ],
   "source": [
    "print(df.isnull().sum())"
   ]
  },
  {
   "cell_type": "markdown",
   "id": "20798454",
   "metadata": {},
   "source": [
    "####  No missing values"
   ]
  },
  {
   "cell_type": "code",
   "execution_count": 7,
   "id": "0c9e3399",
   "metadata": {},
   "outputs": [],
   "source": [
    "#Splitting the dataset into X and y\n",
    "X=df.drop(columns = ['Outcome'])\n",
    "y=df['Outcome']"
   ]
  },
  {
   "cell_type": "markdown",
   "id": "9bbd7d5b",
   "metadata": {},
   "source": [
    "### SVD"
   ]
  },
  {
   "cell_type": "code",
   "execution_count": 9,
   "id": "fe58efb6",
   "metadata": {},
   "outputs": [],
   "source": [
    "X_array=X.to_numpy()"
   ]
  },
  {
   "cell_type": "code",
   "execution_count": 10,
   "id": "56bb44b8",
   "metadata": {},
   "outputs": [
    {
     "data": {
      "text/plain": [
       "array([[  6.   , 148.   ,  72.   , ...,  33.6  ,   0.627,  50.   ],\n",
       "       [  1.   ,  85.   ,  66.   , ...,  26.6  ,   0.351,  31.   ],\n",
       "       [  8.   , 183.   ,  64.   , ...,  23.3  ,   0.672,  32.   ],\n",
       "       ...,\n",
       "       [  5.   , 121.   ,  72.   , ...,  26.2  ,   0.245,  30.   ],\n",
       "       [  1.   , 126.   ,  60.   , ...,  30.1  ,   0.349,  47.   ],\n",
       "       [  1.   ,  93.   ,  70.   , ...,  30.4  ,   0.315,  23.   ]])"
      ]
     },
     "execution_count": 10,
     "metadata": {},
     "output_type": "execute_result"
    }
   ],
   "source": [
    "X_array"
   ]
  },
  {
   "cell_type": "code",
   "execution_count": 11,
   "id": "627ed077",
   "metadata": {},
   "outputs": [],
   "source": [
    "from numpy import array\n",
    "from scipy.linalg import svd"
   ]
  },
  {
   "cell_type": "code",
   "execution_count": 12,
   "id": "6a835ed6",
   "metadata": {},
   "outputs": [],
   "source": [
    "U,S,VT=svd(X_array)"
   ]
  },
  {
   "cell_type": "code",
   "execution_count": 13,
   "id": "252b8be5",
   "metadata": {},
   "outputs": [
    {
     "data": {
      "text/plain": [
       "array([[-3.50515994e-02,  2.89267287e-02,  1.92515525e-02, ...,\n",
       "        -3.18478515e-02, -1.57014171e-02, -6.68856477e-03],\n",
       "       [-2.82443900e-02,  1.35534577e-03, -3.58582612e-02, ...,\n",
       "        -1.07213660e-02, -4.50565098e-02, -3.57634848e-02],\n",
       "       [-3.70252537e-02,  3.58986709e-02,  9.09422679e-02, ...,\n",
       "        -6.70992335e-04, -1.24822595e-02,  3.63041762e-02],\n",
       "       ...,\n",
       "       [-3.01115788e-02,  2.08123418e-02,  5.59295519e-03, ...,\n",
       "         9.97060283e-01,  4.38541802e-04, -8.84755492e-04],\n",
       "       [-3.21326052e-02,  1.67273032e-02,  1.42690281e-02, ...,\n",
       "         9.25301392e-04,  9.90807954e-01, -3.18730299e-04],\n",
       "       [-2.91179271e-02,  4.87658295e-03, -2.98378700e-02, ...,\n",
       "        -6.90417201e-04, -3.87445009e-04,  9.96715641e-01]])"
      ]
     },
     "execution_count": 13,
     "metadata": {},
     "output_type": "execute_result"
    }
   ],
   "source": [
    "U"
   ]
  },
  {
   "cell_type": "code",
   "execution_count": 14,
   "id": "7bb77784",
   "metadata": {},
   "outputs": [
    {
     "data": {
      "text/plain": [
       "(768, 768)"
      ]
     },
     "execution_count": 14,
     "metadata": {},
     "output_type": "execute_result"
    }
   ],
   "source": [
    "U.shape"
   ]
  },
  {
   "cell_type": "code",
   "execution_count": 15,
   "id": "f4a12a76",
   "metadata": {},
   "outputs": [
    {
     "data": {
      "text/plain": [
       "array([6069.04932641, 1556.98463775,  489.51781155,  298.27555262,\n",
       "        246.83993131,  138.9937805 ,   77.49533482,    8.99626975])"
      ]
     },
     "execution_count": 15,
     "metadata": {},
     "output_type": "execute_result"
    }
   ],
   "source": [
    "S"
   ]
  },
  {
   "cell_type": "code",
   "execution_count": 16,
   "id": "213c158c",
   "metadata": {},
   "outputs": [
    {
     "data": {
      "text/plain": [
       "array([[6069.04932641,    0.        ,    0.        ,    0.        ,\n",
       "           0.        ,    0.        ,    0.        ,    0.        ],\n",
       "       [   0.        , 1556.98463775,    0.        ,    0.        ,\n",
       "           0.        ,    0.        ,    0.        ,    0.        ],\n",
       "       [   0.        ,    0.        ,  489.51781155,    0.        ,\n",
       "           0.        ,    0.        ,    0.        ,    0.        ],\n",
       "       [   0.        ,    0.        ,    0.        ,  298.27555262,\n",
       "           0.        ,    0.        ,    0.        ,    0.        ],\n",
       "       [   0.        ,    0.        ,    0.        ,    0.        ,\n",
       "         246.83993131,    0.        ,    0.        ,    0.        ],\n",
       "       [   0.        ,    0.        ,    0.        ,    0.        ,\n",
       "           0.        ,  138.9937805 ,    0.        ,    0.        ],\n",
       "       [   0.        ,    0.        ,    0.        ,    0.        ,\n",
       "           0.        ,    0.        ,   77.49533482,    0.        ],\n",
       "       [   0.        ,    0.        ,    0.        ,    0.        ,\n",
       "           0.        ,    0.        ,    0.        ,    8.99626975]])"
      ]
     },
     "execution_count": 16,
     "metadata": {},
     "output_type": "execute_result"
    }
   ],
   "source": [
    "S_diag=np.diag(S)\n",
    "S_diag"
   ]
  },
  {
   "cell_type": "code",
   "execution_count": 17,
   "id": "6ae4df5d",
   "metadata": {},
   "outputs": [
    {
     "data": {
      "text/plain": [
       "(8, 8)"
      ]
     },
     "execution_count": 17,
     "metadata": {},
     "output_type": "execute_result"
    }
   ],
   "source": [
    "S_diag.shape"
   ]
  },
  {
   "cell_type": "code",
   "execution_count": 18,
   "id": "36616c9a",
   "metadata": {},
   "outputs": [
    {
     "data": {
      "text/plain": [
       "array([[-1.69436643e-02, -5.52287652e-01, -3.14482558e-01,\n",
       "        -1.28148554e-01, -7.33270085e-01, -1.42256677e-01,\n",
       "        -2.10415948e-03, -1.46436071e-01],\n",
       "       [ 2.25412521e-02,  5.58593566e-01,  3.90642256e-01,\n",
       "         1.38252656e-01, -6.78438590e-01,  1.55399657e-01,\n",
       "         1.87381329e-03,  1.76970240e-01],\n",
       "       [-3.74755380e-02,  6.17296396e-01, -6.71633484e-01,\n",
       "        -2.25182153e-01, -4.27613781e-02, -2.26090776e-01,\n",
       "        -1.17531957e-03, -2.50589803e-01],\n",
       "       [ 1.48169942e-01, -1.47966410e-02, -1.51885075e-01,\n",
       "        -2.81784563e-01,  6.48458823e-03, -3.11947157e-01,\n",
       "        -1.99549152e-03,  8.82041978e-01],\n",
       "       [-4.41165279e-02,  3.34882701e-02,  4.97566598e-01,\n",
       "        -7.50544224e-01,  1.25317878e-02, -3.39154423e-01,\n",
       "        -3.69594403e-03, -2.66170410e-01],\n",
       "       [ 1.70064900e-03, -2.30262848e-02, -1.63510759e-01,\n",
       "        -5.20595149e-01, -2.75798737e-03,  8.31774301e-01,\n",
       "         6.50749850e-03,  9.90624977e-02],\n",
       "       [-9.86832609e-01, -4.96788569e-03, -5.49880642e-03,\n",
       "         4.25062342e-03, -8.76149092e-04, -1.57265369e-02,\n",
       "         7.73710223e-03,  1.60562957e-01],\n",
       "       [ 7.63533461e-03, -1.20083361e-03,  4.59417349e-04,\n",
       "        -7.74799194e-04, -2.37940428e-04, -8.02384371e-03,\n",
       "         9.99935412e-01, -2.04497393e-03]])"
      ]
     },
     "execution_count": 18,
     "metadata": {},
     "output_type": "execute_result"
    }
   ],
   "source": [
    "VT"
   ]
  },
  {
   "cell_type": "code",
   "execution_count": 19,
   "id": "7fe81061",
   "metadata": {},
   "outputs": [
    {
     "name": "stdout",
     "output_type": "stream",
     "text": [
      "(8, 8)\n"
     ]
    }
   ],
   "source": [
    "print(VT.shape)"
   ]
  },
  {
   "cell_type": "code",
   "execution_count": 20,
   "id": "4ea23a56",
   "metadata": {},
   "outputs": [],
   "source": [
    "S_VT=np.dot(S_diag,VT)"
   ]
  },
  {
   "cell_type": "code",
   "execution_count": 21,
   "id": "09626ab6",
   "metadata": {},
   "outputs": [
    {
     "data": {
      "text/plain": [
       "(8, 8)"
      ]
     },
     "execution_count": 21,
     "metadata": {},
     "output_type": "execute_result"
    }
   ],
   "source": [
    "S_VT.shape"
   ]
  },
  {
   "cell_type": "code",
   "execution_count": 22,
   "id": "43e890a2",
   "metadata": {},
   "outputs": [],
   "source": [
    "re=S_VT"
   ]
  },
  {
   "cell_type": "code",
   "execution_count": 26,
   "id": "679ed2e4",
   "metadata": {},
   "outputs": [],
   "source": [
    "resize=np.resize(re,(768,768))"
   ]
  },
  {
   "cell_type": "code",
   "execution_count": 27,
   "id": "d8cb050b",
   "metadata": {},
   "outputs": [
    {
     "data": {
      "text/plain": [
       "(768, 768)"
      ]
     },
     "execution_count": 27,
     "metadata": {},
     "output_type": "execute_result"
    }
   ],
   "source": [
    "resize.shape"
   ]
  },
  {
   "cell_type": "code",
   "execution_count": 30,
   "id": "c8ae9716",
   "metadata": {},
   "outputs": [
    {
     "data": {
      "text/plain": [
       "array([[ 2.13920721e+03,  6.97285846e+04,  3.97047147e+04, ...,\n",
       "         1.50165366e+00, -1.87136829e+02,  3.82714656e-01],\n",
       "       [ 1.75021267e+03,  5.70491027e+04,  3.24847889e+04, ...,\n",
       "         1.22859218e+00, -1.53107772e+02,  3.13121625e-01],\n",
       "       [-3.95707725e+02, -1.28983015e+04, -7.34452569e+03, ...,\n",
       "        -2.77773911e-01,  3.46163235e+01, -7.07940516e-02],\n",
       "       ...,\n",
       "       [-6.95664058e+00, -2.26755360e+02, -1.29118595e+02, ...,\n",
       "        -4.88333469e-03,  6.08563608e-01, -1.24457710e-03],\n",
       "       [-3.31339415e+01, -1.08001826e+03, -6.14981889e+02, ...,\n",
       "        -2.32589457e-02,  2.89854144e+00, -5.92782454e-03],\n",
       "       [-5.00342368e+00, -1.63089227e+02, -9.28659498e+01, ...,\n",
       "        -3.51224015e-03,  4.37697123e-01, -8.95137021e-04]])"
      ]
     },
     "execution_count": 30,
     "metadata": {},
     "output_type": "execute_result"
    }
   ],
   "source": [
    "svd_final=np.dot(U,resize)\n",
    "svd_final"
   ]
  },
  {
   "cell_type": "code",
   "execution_count": 31,
   "id": "216447e5",
   "metadata": {},
   "outputs": [
    {
     "data": {
      "text/plain": [
       "(768, 768)"
      ]
     },
     "execution_count": 31,
     "metadata": {},
     "output_type": "execute_result"
    }
   ],
   "source": [
    "svd_final.shape"
   ]
  },
  {
   "cell_type": "code",
   "execution_count": 32,
   "id": "3640295f",
   "metadata": {},
   "outputs": [],
   "source": [
    "# splitting the data into testing and training data.\n",
    "\n",
    "from sklearn.model_selection import train_test_split\n",
    "\n",
    "X_train, X_test, y_train, y_test = train_test_split(svd_final, y, test_size = 0.2, random_state = 0)"
   ]
  },
  {
   "cell_type": "code",
   "execution_count": 33,
   "id": "b40f1017",
   "metadata": {},
   "outputs": [],
   "source": [
    "from sklearn.ensemble import RandomForestClassifier\n",
    "classifier = RandomForestClassifier(max_depth=2, random_state=0)\n",
    "classifier.fit(X_train, y_train)\n",
    "y_pred = classifier.predict(X_test) # Predicting test set results"
   ]
  },
  {
   "cell_type": "code",
   "execution_count": 34,
   "id": "21194771",
   "metadata": {},
   "outputs": [
    {
     "name": "stdout",
     "output_type": "stream",
     "text": [
      "[[97 10]\n",
      " [35 12]]\n",
      "\n",
      "Accuracy: 0.7077922077922078\n"
     ]
    }
   ],
   "source": [
    "from sklearn.metrics import confusion_matrix\n",
    "from sklearn.metrics import accuracy_score\n",
    "cm = confusion_matrix(y_test, y_pred)\n",
    "print(cm)\n",
    "print('\\nAccuracy: ' + str(accuracy_score(y_test, y_pred)))"
   ]
  },
  {
   "cell_type": "markdown",
   "id": "bec1ff2d",
   "metadata": {},
   "source": [
    "#### Accuracy obtained by using Singular Value Decomposition and Random Forest Classifier is 70%"
   ]
  },
  {
   "cell_type": "markdown",
   "id": "6ca33d4e",
   "metadata": {},
   "source": [
    "## PCA"
   ]
  },
  {
   "cell_type": "markdown",
   "id": "fd28d997",
   "metadata": {},
   "source": [
    "Principal component analysis, or PCA, is a statistical technique to convert high dimensional data to low dimensional data by selecting the most important features that capture maximum information about the dataset. The features are selected on the basis of variance that they cause in the output. \n",
    "\n",
    "The feature that causes highest variance is the first principal component. The feature that is responsible for second highest variance isconsidered the second principal component, and so on.\n",
    "\n",
    "PCA performs best with a normalized feature set. So we have to perform standard scalar normalization to normalize the feature set before applying PCA"
   ]
  },
  {
   "cell_type": "code",
   "execution_count": 35,
   "id": "736a50e8",
   "metadata": {},
   "outputs": [],
   "source": [
    "# splitting the data into testing and training data.\n",
    "\n",
    "from sklearn.model_selection import train_test_split\n",
    "\n",
    "X_train_pca, X_test_pca, y_train_pca, y_test_pca = train_test_split(X, y, test_size = 0.2, random_state = 0)"
   ]
  },
  {
   "cell_type": "code",
   "execution_count": 36,
   "id": "679721ce",
   "metadata": {},
   "outputs": [],
   "source": [
    "#Scaling the data\n",
    "from sklearn.preprocessing import StandardScaler\n",
    "sc = StandardScaler()\n",
    "X_train_pca = sc.fit_transform(X_train_pca)\n",
    "X_test_pca = sc.transform(X_test_pca)"
   ]
  },
  {
   "cell_type": "code",
   "execution_count": 37,
   "id": "91e6bcf5",
   "metadata": {},
   "outputs": [],
   "source": [
    "#Scaling the data\n",
    "from sklearn.preprocessing import StandardScaler\n",
    "sc = StandardScaler()\n",
    "X_train_pca = sc.fit_transform(X_train_pca)\n",
    "X_test_pca = sc.transform(X_test_pca)"
   ]
  },
  {
   "cell_type": "code",
   "execution_count": 38,
   "id": "7ff22d08",
   "metadata": {},
   "outputs": [],
   "source": [
    "from sklearn.decomposition import PCA # Importing PCA\n",
    "pca = PCA(n_components=2) #Using 2 principal components\n",
    "X_train_pca = pca.fit_transform(X_train_pca)\n",
    "X_test_pca = pca.transform(X_test_pca)"
   ]
  },
  {
   "cell_type": "code",
   "execution_count": 39,
   "id": "e65000c3",
   "metadata": {},
   "outputs": [],
   "source": [
    "from sklearn.ensemble import RandomForestClassifier\n",
    "classifier = RandomForestClassifier(max_depth=2, random_state=0)\n",
    "classifier.fit(X_train_pca, y_train_pca)\n",
    "y_pred = classifier.predict(X_test_pca) # Predicting test set results\n"
   ]
  },
  {
   "cell_type": "code",
   "execution_count": 40,
   "id": "1996ffb4",
   "metadata": {},
   "outputs": [
    {
     "name": "stdout",
     "output_type": "stream",
     "text": [
      "[[98  9]\n",
      " [29 18]]\n",
      "\n",
      "Accuracy: 0.7532467532467533\n"
     ]
    }
   ],
   "source": [
    "from sklearn.metrics import confusion_matrix\n",
    "from sklearn.metrics import accuracy_score\n",
    "cm = confusion_matrix(y_test_pca, y_pred)\n",
    "print(cm)\n",
    "print('\\nAccuracy: ' + str(accuracy_score(y_test_pca, y_pred)))"
   ]
  },
  {
   "cell_type": "markdown",
   "id": "cfe394ae",
   "metadata": {},
   "source": [
    "#### With two components of PCA, the random forest algorithm is able to correctly predict 116 out of 154 instances, resulting in 75.3% accuracy"
   ]
  },
  {
   "cell_type": "markdown",
   "id": "c1b4db58",
   "metadata": {},
   "source": [
    "### LDA"
   ]
  },
  {
   "cell_type": "markdown",
   "id": "5a5276cb",
   "metadata": {},
   "source": [
    "Linear discriminant analysis, or LDA, tries to reduce dimensions of the feature set while retaining the information that discriminates output classes. It\n",
    "is different from PCA in the manner that it relies on the output. It is a supervised technique"
   ]
  },
  {
   "cell_type": "code",
   "execution_count": 41,
   "id": "3fac3b37",
   "metadata": {},
   "outputs": [
    {
     "data": {
      "text/html": [
       "<div>\n",
       "<style scoped>\n",
       "    .dataframe tbody tr th:only-of-type {\n",
       "        vertical-align: middle;\n",
       "    }\n",
       "\n",
       "    .dataframe tbody tr th {\n",
       "        vertical-align: top;\n",
       "    }\n",
       "\n",
       "    .dataframe thead th {\n",
       "        text-align: right;\n",
       "    }\n",
       "</style>\n",
       "<table border=\"1\" class=\"dataframe\">\n",
       "  <thead>\n",
       "    <tr style=\"text-align: right;\">\n",
       "      <th></th>\n",
       "      <th>0</th>\n",
       "    </tr>\n",
       "  </thead>\n",
       "  <tbody>\n",
       "    <tr>\n",
       "      <th>0</th>\n",
       "      <td>1.838308</td>\n",
       "    </tr>\n",
       "    <tr>\n",
       "      <th>1</th>\n",
       "      <td>-0.517607</td>\n",
       "    </tr>\n",
       "    <tr>\n",
       "      <th>2</th>\n",
       "      <td>-0.940655</td>\n",
       "    </tr>\n",
       "    <tr>\n",
       "      <th>3</th>\n",
       "      <td>0.347650</td>\n",
       "    </tr>\n",
       "    <tr>\n",
       "      <th>4</th>\n",
       "      <td>-0.911034</td>\n",
       "    </tr>\n",
       "  </tbody>\n",
       "</table>\n",
       "</div>"
      ],
      "text/plain": [
       "          0\n",
       "0  1.838308\n",
       "1 -0.517607\n",
       "2 -0.940655\n",
       "3  0.347650\n",
       "4 -0.911034"
      ]
     },
     "execution_count": 41,
     "metadata": {},
     "output_type": "execute_result"
    }
   ],
   "source": [
    "from sklearn.discriminant_analysis import LinearDiscriminantAnalysis as LDA\n",
    "lda = LDA(n_components=1) #Number of components = 1\n",
    "X_train_l = lda.fit_transform(X_train_pca, y_train_pca)\n",
    "X_test_l = lda.transform(X_test_pca)\n",
    "LDA_df = pd.DataFrame(X_test_l)\n",
    "LDA_df.head()"
   ]
  },
  {
   "cell_type": "code",
   "execution_count": 42,
   "id": "868e9cae",
   "metadata": {},
   "outputs": [],
   "source": [
    "from sklearn.ensemble import RandomForestClassifier\n",
    "classifier = RandomForestClassifier(max_depth=2, random_state=0)\n",
    "classifier.fit(X_train_l, y_train)\n",
    "y_pred2 = classifier.predict(X_train_l)\n",
    "y_pred = classifier.predict(X_test_l)"
   ]
  },
  {
   "cell_type": "code",
   "execution_count": 43,
   "id": "93370c53",
   "metadata": {},
   "outputs": [
    {
     "name": "stdout",
     "output_type": "stream",
     "text": [
      "[[340  53]\n",
      " [111 110]]\n",
      "\n",
      "Accuracy: 0.7328990228013029\n"
     ]
    }
   ],
   "source": [
    "#Train accuracy\n",
    "from sklearn.metrics import confusion_matrix\n",
    "from sklearn.metrics import accuracy_score\n",
    "cm = confusion_matrix(y_train, y_pred2)\n",
    "print(cm)\n",
    "print('\\nAccuracy: ' + str(accuracy_score(y_train, y_pred2)))"
   ]
  },
  {
   "cell_type": "code",
   "execution_count": 44,
   "id": "13cd379d",
   "metadata": {},
   "outputs": [
    {
     "name": "stdout",
     "output_type": "stream",
     "text": [
      "[[96 11]\n",
      " [23 24]]\n",
      "\n",
      "Accuracy: 0.7792207792207793\n"
     ]
    }
   ],
   "source": [
    "#Test accuracy\n",
    "cm = confusion_matrix(y_test, y_pred)\n",
    "print(cm)\n",
    "print('\\nAccuracy: ' + str(accuracy_score(y_test, y_pred)))"
   ]
  },
  {
   "cell_type": "markdown",
   "id": "6495a1e9",
   "metadata": {},
   "source": [
    "#### With one linear discriminant and Random Forest Classfier the model achieved an accuracy of 77.92%."
   ]
  },
  {
   "cell_type": "markdown",
   "id": "108c38ce",
   "metadata": {},
   "source": [
    "### The accuracy obtained by using SVD(70%) is less compared to PCA(75%) and LDA(77%). "
   ]
  },
  {
   "cell_type": "code",
   "execution_count": null,
   "id": "fc7dd46c",
   "metadata": {},
   "outputs": [],
   "source": []
  }
 ],
 "metadata": {
  "kernelspec": {
   "display_name": "Python 3 (ipykernel)",
   "language": "python",
   "name": "python3"
  },
  "language_info": {
   "codemirror_mode": {
    "name": "ipython",
    "version": 3
   },
   "file_extension": ".py",
   "mimetype": "text/x-python",
   "name": "python",
   "nbconvert_exporter": "python",
   "pygments_lexer": "ipython3",
   "version": "3.8.5"
  }
 },
 "nbformat": 4,
 "nbformat_minor": 5
}
